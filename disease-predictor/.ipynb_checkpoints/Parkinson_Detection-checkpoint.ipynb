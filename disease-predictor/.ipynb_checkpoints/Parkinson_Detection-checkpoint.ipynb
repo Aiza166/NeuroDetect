{
 "cells": [
  {
   "cell_type": "markdown",
   "id": "182627d2-cbcd-4188-92a5-82a8d063b3cb",
   "metadata": {},
   "source": [
    "# 🧪 Parkinson's Disease Detection - Jupyter Notebook\n",
    "\n",
    "This notebook demonstrates how to load a pre-trained machine learning model to detect Parkinson's disease using extracted vocal features.  \n",
    "It accepts a list of 22 biomedical voice measurements and predicts whether the subject has Parkinson's.\n",
    "\n",
    "Model used: `RandomForestClassifier`  \n",
    "Source: NeuroDetect (`src/train_model.py`)"
   ]
  },
  {
   "cell_type": "code",
   "execution_count": 7,
   "id": "844f5c26-0805-42fa-af80-81a8b6476bfa",
   "metadata": {},
   "outputs": [],
   "source": [
    "# 📦 Import required libraries\n",
    "import pandas as pd\n",
    "import numpy as np\n",
    "import joblib\n",
    "from tensorflow.keras.models import load_model\n"
   ]
  },
  {
   "cell_type": "code",
   "execution_count": 9,
   "id": "3e42295b-752b-47cf-ada4-12a52e41481c",
   "metadata": {},
   "outputs": [
    {
     "name": "stderr",
     "output_type": "stream",
     "text": [
      "WARNING:absl:Compiled the loaded model, but the compiled metrics have yet to be built. `model.compile_metrics` will be empty until you train or evaluate the model.\n"
     ]
    },
    {
     "name": "stdout",
     "output_type": "stream",
     "text": [
      "Model and scaler loaded successfully!\n"
     ]
    }
   ],
   "source": [
    "from tensorflow.keras.models import load_model\n",
    "import joblib\n",
    "\n",
    "# Use relative path to reach models folder from current notebook location\n",
    "model = load_model(\"../models/parkinsons_model.h5\")\n",
    "scaler = joblib.load(\"../models/scaler.pkl\")\n",
    "\n",
    "print(\"Model and scaler loaded successfully!\")\n"
   ]
  },
  {
   "cell_type": "code",
   "execution_count": 10,
   "id": "17520d50-544b-47a3-a9a7-2d49118da2c9",
   "metadata": {},
   "outputs": [
    {
     "name": "stdout",
     "output_type": "stream",
     "text": [
      "Notebook is running from: C:\\Users\\aizag\\Desktop\\Coding\\Hackclub\\NeuroDetect\\disease-predictor\n",
      "Does model exist? True\n",
      "Does scaler exist? True\n"
     ]
    }
   ],
   "source": [
    "import os\n",
    "\n",
    "print(\"Notebook is running from:\", os.getcwd())\n",
    "print(\"Does model exist?\", os.path.exists(\"../models/parkinsons_model.h5\"))\n",
    "print(\"Does scaler exist?\", os.path.exists(\"../models/scaler.pkl\"))\n"
   ]
  },
  {
   "cell_type": "code",
   "execution_count": 11,
   "id": "3a4f5155-277b-476b-a95d-d39ae30a66ae",
   "metadata": {},
   "outputs": [],
   "source": [
    "# Example input data (same features as training)\n",
    "input_data = {\n",
    "    'MDVP:Fo(Hz)': 119.992,\n",
    "    'MDVP:Fhi(Hz)': 157.302,\n",
    "    'MDVP:Flo(Hz)': 74.997,\n",
    "    'MDVP:Jitter(%)': 0.00784,\n",
    "    'MDVP:Jitter(Abs)': 0.00007,\n",
    "    'MDVP:RAP': 0.00370,\n",
    "    'MDVP:PPQ': 0.00554,\n",
    "    'Jitter:DDP': 0.01109,\n",
    "    'MDVP:Shimmer': 0.04374,\n",
    "    'MDVP:Shimmer(dB)': 0.426,\n",
    "    'Shimmer:APQ3': 0.02182,\n",
    "    'Shimmer:APQ5': 0.03130,\n",
    "    'MDVP:APQ': 0.02971,\n",
    "    'Shimmer:DDA': 0.06545,\n",
    "    'NHR': 0.02211,\n",
    "    'HNR': 21.033,\n",
    "    'RPDE': 0.414783,\n",
    "    'DFA': 0.815285,\n",
    "    'spread1': -4.813031,\n",
    "    'spread2': 0.266482,\n",
    "    'D2': 2.301442,\n",
    "    'PPE': 0.284654\n",
    "}\n"
   ]
  },
  {
   "cell_type": "code",
   "execution_count": 13,
   "id": "fe1613b2-b620-452c-89c4-9de9d292267d",
   "metadata": {},
   "outputs": [
    {
     "name": "stdout",
     "output_type": "stream",
     "text": [
      "Model expects features:\n",
      " ['Age', 'Gender', 'Ethnicity', 'EducationLevel', 'BMI', 'Smoking', 'AlcoholConsumption', 'PhysicalActivity', 'DietQuality', 'SleepQuality', 'FamilyHistoryParkinsons', 'TraumaticBrainInjury', 'Hypertension', 'Diabetes', 'Depression', 'Stroke', 'SystolicBP', 'DiastolicBP', 'CholesterolTotal', 'CholesterolLDL', 'CholesterolHDL', 'CholesterolTriglycerides', 'UPDRS', 'MoCA', 'FunctionalAssessment', 'Tremor', 'Rigidity', 'Bradykinesia', 'PosturalInstability', 'SpeechProblems', 'SleepDisorders', 'Constipation']\n"
     ]
    }
   ],
   "source": [
    "df = pd.read_csv(\"../data/processed/parkinsons_clean.csv\")\n",
    "drop_cols = ['Diagnosis', 'PatientID', 'DoctorInCharge']\n",
    "features = df.drop(columns=[col for col in drop_cols if col in df.columns]).columns.tolist()\n",
    "print(\"Model expects features:\\n\", features)\n"
   ]
  },
  {
   "cell_type": "code",
   "execution_count": 14,
   "id": "f3e305b5-a06b-433e-a88f-07d7612227ee",
   "metadata": {},
   "outputs": [],
   "source": [
    "input_data = {\n",
    "    'Age': 65,\n",
    "    'Gender': 1,  # 1 = Male, 0 = Female\n",
    "    'Ethnicity': 2,  # e.g., encoded as 0, 1, 2\n",
    "    'EducationLevel': 3,  # e.g., 0: None, 1: Primary, ..., 3: Graduate\n",
    "    'BMI': 24.5,\n",
    "    'Smoking': 0,\n",
    "    'AlcoholConsumption': 1,\n",
    "    'PhysicalActivity': 2,  # e.g., 0: None, 1: Light, 2: Moderate, 3: Intense\n",
    "    'DietQuality': 3,  # e.g., 1 to 5\n",
    "    'SleepQuality': 2,\n",
    "    'FamilyHistoryParkinsons': 1,\n",
    "    'TraumaticBrainInjury': 0,\n",
    "    'Hypertension': 1,\n",
    "    'Diabetes': 0,\n",
    "    'Depression': 1,\n",
    "    'Stroke': 0,\n",
    "    'SystolicBP': 130,\n",
    "    'DiastolicBP': 85,\n",
    "    'CholesterolTotal': 190,\n",
    "    'CholesterolLDL': 110,\n",
    "    'CholesterolHDL': 50,\n",
    "    'CholesterolTriglycerides': 130,\n",
    "    'UPDRS': 20.5,\n",
    "    'MoCA': 23,\n",
    "    'FunctionalAssessment': 2,\n",
    "    'Tremor': 1,\n",
    "    'Rigidity': 1,\n",
    "    'Bradykinesia': 1,\n",
    "    'PosturalInstability': 0,\n",
    "    'SpeechProblems': 1,\n",
    "    'SleepDisorders': 0,\n",
    "    'Constipation': 0\n",
    "}\n"
   ]
  },
  {
   "cell_type": "code",
   "execution_count": 15,
   "id": "72467fae-6afd-4e8c-b8ee-8fbb797526a6",
   "metadata": {},
   "outputs": [
    {
     "name": "stdout",
     "output_type": "stream",
     "text": [
      "\u001b[1m1/1\u001b[0m \u001b[32m━━━━━━━━━━━━━━━━━━━━\u001b[0m\u001b[37m\u001b[0m \u001b[1m0s\u001b[0m 370ms/step\n",
      "Parkinson's Disease Detected.\n"
     ]
    }
   ],
   "source": [
    "input_df = pd.DataFrame([input_data])\n",
    "scaled_input = scaler.transform(input_df)\n",
    "prediction = model.predict(scaled_input)\n",
    "\n",
    "if prediction[0][0] > 0.5:\n",
    "    print(\"Parkinson's Disease Detected.\")\n",
    "else:\n",
    "    print(\"No Parkinson's Disease.\")\n"
   ]
  },
  {
   "cell_type": "code",
   "execution_count": null,
   "id": "adc4c55d-d67f-4d43-b3ee-db4764f4d615",
   "metadata": {},
   "outputs": [],
   "source": []
  }
 ],
 "metadata": {
  "kernelspec": {
   "display_name": "Python 3 (ipykernel)",
   "language": "python",
   "name": "python3"
  },
  "language_info": {
   "codemirror_mode": {
    "name": "ipython",
    "version": 3
   },
   "file_extension": ".py",
   "mimetype": "text/x-python",
   "name": "python",
   "nbconvert_exporter": "python",
   "pygments_lexer": "ipython3",
   "version": "3.10.0"
  }
 },
 "nbformat": 4,
 "nbformat_minor": 5
}
